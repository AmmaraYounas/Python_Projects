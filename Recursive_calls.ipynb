{
  "nbformat": 4,
  "nbformat_minor": 0,
  "metadata": {
    "colab": {
      "provenance": []
    },
    "kernelspec": {
      "name": "python3",
      "display_name": "Python 3"
    },
    "language_info": {
      "name": "python"
    }
  },
  "cells": [
    {
      "cell_type": "code",
      "execution_count": null,
      "metadata": {
        "id": "cCZQGGfIzMeb"
      },
      "outputs": [],
      "source": [
        "#Q: write a recursive function that given an input n, sums all non negative integer upto n"
      ]
    },
    {
      "cell_type": "code",
      "source": [
        "\"\"\"12\n",
        "1,2,3,4,5,6,7,8,9,10,11,12\n",
        "\n",
        "n =  12\n",
        "sum(12)= sum(11)+12\n",
        "sum(11)= sum(10)+11\n",
        "sum(10)= sum(9)+10\n",
        "sum(9)= sum(8)+9\n",
        "sum(8)= sum(7)+8\n",
        "sum(7)= sum(6)+7\n",
        "sum(6)= sum(5)+6\n",
        "sum(5)= sum(4)+5\n",
        "sum(4)= sum(3)+4\n",
        "sum(3)= sum(2)+3\n",
        "sum(2)= sum(1)+2\n",
        "sum(1)= 1\n",
        "\"\"\"\n",
        "\n",
        "def sum(n):\n",
        "  if n==1:\n",
        "    return 1\n",
        "  return sum(n-1)+n\n",
        "\n",
        "\n",
        "sum(5)"
      ],
      "metadata": {
        "colab": {
          "base_uri": "https://localhost:8080/"
        },
        "id": "DrG5xEyC0VdV",
        "outputId": "d02c81bb-c16f-45b4-9e42-8375ac2911c7"
      },
      "execution_count": null,
      "outputs": [
        {
          "output_type": "execute_result",
          "data": {
            "text/plain": [
              "15"
            ]
          },
          "metadata": {},
          "execution_count": 19
        }
      ]
    },
    {
      "cell_type": "code",
      "source": [
        "##method 2:\n",
        "def sum(n):\n",
        "  return n*(n+1)/2\n",
        "\n",
        "sum(5)\n"
      ],
      "metadata": {
        "colab": {
          "base_uri": "https://localhost:8080/"
        },
        "id": "CjHJtggS2tuV",
        "outputId": "4a85c752-edb5-4df0-bc60-63ea04d5de6b"
      },
      "execution_count": null,
      "outputs": [
        {
          "output_type": "execute_result",
          "data": {
            "text/plain": [
              "15.0"
            ]
          },
          "metadata": {},
          "execution_count": 22
        }
      ]
    },
    {
      "cell_type": "code",
      "source": [
        "# write a function that takes two inputs n and m and outputs the number of unique paths from m*n grid.\n",
        "#Constraits :movement can be from move down or right"
      ],
      "metadata": {
        "id": "OTiAhm-r5uFk"
      },
      "execution_count": null,
      "outputs": []
    },
    {
      "cell_type": "code",
      "source": [
        "\"\"\"\n",
        "(3,4)=(3,3)+(2,4)=6+4=10\n",
        "(3,3)=(3,2)+(2,3)=3+3=6\n",
        "(3,2)=(2,2)+(3,1)=2+1=3\n",
        "(2,2)=(2,1)+(1,2)=1+1=2\n",
        "(2,3)=(1,3)+(2,2)=1+2=3\n",
        "(2,4)=(1,4)+(2,3)=1+3=4\n",
        "\"\"\"\n",
        "def grid_path(m,n):\n",
        "  if n==1 or m ==1:\n",
        "    return 1\n",
        "  return grid_path(m-1,n)+grid_path(m,n-1)\n",
        "\n",
        "grid_path(3,4)"
      ],
      "metadata": {
        "colab": {
          "base_uri": "https://localhost:8080/"
        },
        "id": "zk6Z605O6DUc",
        "outputId": "0e9c47f6-47dc-4110-e643-8e3fb68973b8"
      },
      "execution_count": null,
      "outputs": [
        {
          "output_type": "execute_result",
          "data": {
            "text/plain": [
              "10"
            ]
          },
          "metadata": {},
          "execution_count": 23
        }
      ]
    },
    {
      "cell_type": "code",
      "source": [
        "#write a function that counts the number of way you can partition n objects using upto m parts(assuming>=0)\n"
      ],
      "metadata": {
        "id": "hMFAXG0IUeHk"
      },
      "execution_count": null,
      "outputs": []
    },
    {
      "cell_type": "code",
      "source": [
        "\"\"\"\n",
        "(9,5)=(9,4)+(4,5)=5+18=23\n",
        "(9,4)=(9,3)+(5,4)=12+6=18\n",
        "(9,3)=(9,2)+(6,3)=7+5=12\n",
        "(9,2)=(9,1)+(7,2)=1+4\n",
        "(9,1)=(9,0)+(8,1)=0+1=1\n",
        "(9,0)=0\n",
        "\n",
        "(4,5)=(4,4)+(-1,5)=0+5=5\n",
        "\n",
        "(4,4)=(4,3)+(0,4)=1+4=5\n",
        "(4,3)=(4,2)+(1,3)=3+1=4\n",
        "(4,2)=(4,1)+(2,2)=1+2=3\n",
        "(4,1)=(4,0)+(3,1)=0+1=1\n",
        "(3,1)=(3,0)+(2,1)=0+1=1\n",
        "(2,1)=(1,1)+(2,0)=1+0=1\n",
        "(1,1)=(0,1)+(1,0)=1+0=1\n",
        "\n",
        "(2,2)=(0,2)+(2,1)=1+1=2\n",
        "\n",
        "(1,3)=(1,2)+(-2,3)=1+0=1\n",
        "(1,2)=(1,1)+(-1,2)=1+0=1\n",
        "\n",
        "\"\"\"\n",
        "\n",
        "\n",
        "\n",
        "\n",
        "def count_partition(n,m):\n",
        "  if n==0:\n",
        "    return 1;\n",
        "  elif m==0 or n<0:\n",
        "    return 0\n",
        "  return count_partition(n-m,m)+count_partition(n,m-1)\n",
        "\n",
        "\n",
        "count_partition(9,5)"
      ],
      "metadata": {
        "id": "N_XakJ8jXICY",
        "colab": {
          "base_uri": "https://localhost:8080/"
        },
        "outputId": "29519c85-2142-48f2-e41f-143f67763fa2"
      },
      "execution_count": 25,
      "outputs": [
        {
          "output_type": "execute_result",
          "data": {
            "text/plain": [
              "23"
            ]
          },
          "metadata": {},
          "execution_count": 25
        }
      ]
    }
  ]
}